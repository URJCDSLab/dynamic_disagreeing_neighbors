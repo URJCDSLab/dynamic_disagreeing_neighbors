{
 "cells": [
  {
   "cell_type": "code",
   "execution_count": 1,
   "id": "fbef1959-81ec-4814-b816-a54a2afd5ad7",
   "metadata": {},
   "outputs": [],
   "source": [
    "import pandas as pd\n",
    "import os"
   ]
  },
  {
   "cell_type": "code",
   "execution_count": 2,
   "id": "27c8a4f0",
   "metadata": {},
   "outputs": [
    {
     "data": {
      "application/vnd.microsoft.datawrangler.viewer.v0+json": {
       "columns": [
        {
         "name": "index",
         "rawType": "object",
         "type": "string"
        },
        {
         "name": "instances",
         "rawType": "int64",
         "type": "integer"
        },
        {
         "name": "n_features",
         "rawType": "int64",
         "type": "integer"
        },
        {
         "name": "class_prop",
         "rawType": "float64",
         "type": "float"
        }
       ],
       "ref": "f1a00ab2-8ace-4460-827b-f9f10068a2a3",
       "rows": [
        [
         "a9a",
         "32561",
         "123",
         "0.241"
        ],
        [
         "analcatdata_lawsuit",
         "264",
         "4",
         "0.072"
        ],
        [
         "appendicitis",
         "106",
         "7",
         "0.198"
        ],
        [
         "australian",
         "690",
         "14",
         "0.445"
        ],
        [
         "backache",
         "180",
         "31",
         "0.139"
        ],
        [
         "banknote",
         "1372",
         "4",
         "0.445"
        ],
        [
         "breastcancer",
         "569",
         "30",
         "0.373"
        ],
        [
         "bupa",
         "345",
         "5",
         "0.49"
        ],
        [
         "cleve",
         "303",
         "13",
         "0.455"
        ],
        [
         "cod-rna",
         "59535",
         "8",
         "0.333"
        ],
        [
         "colon-cancer",
         "62",
         "2000",
         "0.355"
        ],
        [
         "dermatology-6",
         "358",
         "34",
         "0.056"
        ],
        [
         "diabetes",
         "768",
         "8",
         "0.349"
        ],
        [
         "ecoli-0-1-4-6_vs_5",
         "280",
         "6",
         "0.071"
        ],
        [
         "ecoli-0-1-4-7_vs_2-3-5-6",
         "336",
         "7",
         "0.086"
        ],
        [
         "ecoli1",
         "336",
         "7",
         "0.229"
        ],
        [
         "ecoli2",
         "336",
         "7",
         "0.155"
        ],
        [
         "ecoli3",
         "336",
         "7",
         "0.104"
        ],
        [
         "ecoli4",
         "336",
         "7",
         "0.06"
        ],
        [
         "flare",
         "1066",
         "10",
         "0.171"
        ],
        [
         "fourclass",
         "862",
         "2",
         "0.356"
        ],
        [
         "german_numer",
         "1000",
         "24",
         "0.3"
        ],
        [
         "glass0",
         "214",
         "9",
         "0.327"
        ],
        [
         "glass1",
         "214",
         "9",
         "0.355"
        ],
        [
         "glass2",
         "214",
         "9",
         "0.079"
        ],
        [
         "glass4",
         "214",
         "9",
         "0.061"
        ],
        [
         "glass6",
         "214",
         "9",
         "0.136"
        ],
        [
         "haberman",
         "306",
         "3",
         "0.265"
        ],
        [
         "heart",
         "270",
         "13",
         "0.444"
        ],
        [
         "housevotes84",
         "232",
         "16",
         "0.466"
        ],
        [
         "ilpd",
         "579",
         "10",
         "0.285"
        ],
        [
         "ionosphere",
         "351",
         "34",
         "0.359"
        ],
        [
         "kr_vs_kp",
         "3196",
         "36",
         "0.478"
        ],
        [
         "liver-disorders",
         "145",
         "5",
         "0.379"
        ],
        [
         "mammographic",
         "830",
         "4",
         "0.486"
        ],
        [
         "mushroom",
         "8124",
         "22",
         "0.482"
        ],
        [
         "new-thyroid1",
         "215",
         "5",
         "0.163"
        ],
        [
         "newthyroid2",
         "215",
         "5",
         "0.163"
        ],
        [
         "page-blocks-1-3_vs_4",
         "472",
         "10",
         "0.059"
        ],
        [
         "page-blocks0",
         "5472",
         "10",
         "0.102"
        ],
        [
         "r2",
         "116",
         "9",
         "0.448"
        ],
        [
         "sonar",
         "208",
         "60",
         "0.466"
        ],
        [
         "spect",
         "267",
         "22",
         "0.206"
        ],
        [
         "splice",
         "1000",
         "60",
         "0.483"
        ],
        [
         "svmguide1",
         "3089",
         "4",
         "0.353"
        ],
        [
         "svmguide3",
         "1243",
         "22",
         "0.238"
        ],
        [
         "transfusion",
         "748",
         "4",
         "0.238"
        ],
        [
         "vehicle0",
         "846",
         "18",
         "0.235"
        ],
        [
         "vehicle1",
         "846",
         "18",
         "0.257"
        ],
        [
         "vehicle2",
         "846",
         "18",
         "0.258"
        ]
       ],
       "shape": {
        "columns": 3,
        "rows": 65
       }
      },
      "text/html": [
       "<div>\n",
       "<style scoped>\n",
       "    .dataframe tbody tr th:only-of-type {\n",
       "        vertical-align: middle;\n",
       "    }\n",
       "\n",
       "    .dataframe tbody tr th {\n",
       "        vertical-align: top;\n",
       "    }\n",
       "\n",
       "    .dataframe thead th {\n",
       "        text-align: right;\n",
       "    }\n",
       "</style>\n",
       "<table border=\"1\" class=\"dataframe\">\n",
       "  <thead>\n",
       "    <tr style=\"text-align: right;\">\n",
       "      <th></th>\n",
       "      <th>instances</th>\n",
       "      <th>n_features</th>\n",
       "      <th>class_prop</th>\n",
       "    </tr>\n",
       "  </thead>\n",
       "  <tbody>\n",
       "    <tr>\n",
       "      <th>a9a</th>\n",
       "      <td>32561</td>\n",
       "      <td>123</td>\n",
       "      <td>0.241</td>\n",
       "    </tr>\n",
       "    <tr>\n",
       "      <th>analcatdata_lawsuit</th>\n",
       "      <td>264</td>\n",
       "      <td>4</td>\n",
       "      <td>0.072</td>\n",
       "    </tr>\n",
       "    <tr>\n",
       "      <th>appendicitis</th>\n",
       "      <td>106</td>\n",
       "      <td>7</td>\n",
       "      <td>0.198</td>\n",
       "    </tr>\n",
       "    <tr>\n",
       "      <th>australian</th>\n",
       "      <td>690</td>\n",
       "      <td>14</td>\n",
       "      <td>0.445</td>\n",
       "    </tr>\n",
       "    <tr>\n",
       "      <th>backache</th>\n",
       "      <td>180</td>\n",
       "      <td>31</td>\n",
       "      <td>0.139</td>\n",
       "    </tr>\n",
       "    <tr>\n",
       "      <th>...</th>\n",
       "      <td>...</td>\n",
       "      <td>...</td>\n",
       "      <td>...</td>\n",
       "    </tr>\n",
       "    <tr>\n",
       "      <th>yeast1</th>\n",
       "      <td>1484</td>\n",
       "      <td>8</td>\n",
       "      <td>0.289</td>\n",
       "    </tr>\n",
       "    <tr>\n",
       "      <th>yeast3</th>\n",
       "      <td>1484</td>\n",
       "      <td>8</td>\n",
       "      <td>0.110</td>\n",
       "    </tr>\n",
       "    <tr>\n",
       "      <th>yeast4</th>\n",
       "      <td>1484</td>\n",
       "      <td>8</td>\n",
       "      <td>0.034</td>\n",
       "    </tr>\n",
       "    <tr>\n",
       "      <th>yeast5</th>\n",
       "      <td>1484</td>\n",
       "      <td>8</td>\n",
       "      <td>0.030</td>\n",
       "    </tr>\n",
       "    <tr>\n",
       "      <th>yeast6</th>\n",
       "      <td>1484</td>\n",
       "      <td>8</td>\n",
       "      <td>0.024</td>\n",
       "    </tr>\n",
       "  </tbody>\n",
       "</table>\n",
       "<p>65 rows × 3 columns</p>\n",
       "</div>"
      ],
      "text/plain": [
       "                     instances  n_features  class_prop\n",
       "a9a                      32561         123       0.241\n",
       "analcatdata_lawsuit        264           4       0.072\n",
       "appendicitis               106           7       0.198\n",
       "australian                 690          14       0.445\n",
       "backache                   180          31       0.139\n",
       "...                        ...         ...         ...\n",
       "yeast1                    1484           8       0.289\n",
       "yeast3                    1484           8       0.110\n",
       "yeast4                    1484           8       0.034\n",
       "yeast5                    1484           8       0.030\n",
       "yeast6                    1484           8       0.024\n",
       "\n",
       "[65 rows x 3 columns]"
      ]
     },
     "execution_count": 2,
     "metadata": {},
     "output_type": "execute_result"
    }
   ],
   "source": [
    "df_description = pd.read_parquet('data/results/df_description_data.parquet')\n",
    "df_description"
   ]
  },
  {
   "cell_type": "code",
   "execution_count": 3,
   "id": "8384d12f",
   "metadata": {},
   "outputs": [
    {
     "data": {
      "application/vnd.microsoft.datawrangler.viewer.v0+json": {
       "columns": [
        {
         "name": "index",
         "rawType": "object",
         "type": "string"
        },
        {
         "name": "instances",
         "rawType": "int64",
         "type": "integer"
        },
        {
         "name": "n_features",
         "rawType": "int64",
         "type": "integer"
        },
        {
         "name": "class_prop",
         "rawType": "float64",
         "type": "float"
        }
       ],
       "ref": "743cdafe-962b-4492-95b8-0af84ab4c570",
       "rows": [
        [
         "bupa",
         "345",
         "5",
         "0.49"
        ],
        [
         "mammographic",
         "830",
         "4",
         "0.486"
        ],
        [
         "splice",
         "1000",
         "60",
         "0.483"
        ],
        [
         "mushroom",
         "8124",
         "22",
         "0.482"
        ],
        [
         "kr_vs_kp",
         "3196",
         "36",
         "0.478"
        ],
        [
         "housevotes84",
         "232",
         "16",
         "0.466"
        ],
        [
         "sonar",
         "208",
         "60",
         "0.466"
        ],
        [
         "cleve",
         "303",
         "13",
         "0.455"
        ],
        [
         "r2",
         "116",
         "9",
         "0.448"
        ],
        [
         "banknote",
         "1372",
         "4",
         "0.445"
        ],
        [
         "australian",
         "690",
         "14",
         "0.445"
        ],
        [
         "heart",
         "270",
         "13",
         "0.444"
        ],
        [
         "liver-disorders",
         "145",
         "5",
         "0.379"
        ],
        [
         "breastcancer",
         "569",
         "30",
         "0.373"
        ],
        [
         "ionosphere",
         "351",
         "34",
         "0.359"
        ],
        [
         "fourclass",
         "862",
         "2",
         "0.356"
        ],
        [
         "glass1",
         "214",
         "9",
         "0.355"
        ],
        [
         "colon-cancer",
         "62",
         "2000",
         "0.355"
        ],
        [
         "svmguide1",
         "3089",
         "4",
         "0.353"
        ],
        [
         "diabetes",
         "768",
         "8",
         "0.349"
        ],
        [
         "cod-rna",
         "59535",
         "8",
         "0.333"
        ],
        [
         "glass0",
         "214",
         "9",
         "0.327"
        ],
        [
         "german_numer",
         "1000",
         "24",
         "0.3"
        ],
        [
         "yeast1",
         "1484",
         "8",
         "0.289"
        ],
        [
         "ilpd",
         "579",
         "10",
         "0.285"
        ],
        [
         "haberman",
         "306",
         "3",
         "0.265"
        ],
        [
         "vehicle2",
         "846",
         "18",
         "0.258"
        ],
        [
         "vehicle1",
         "846",
         "18",
         "0.257"
        ],
        [
         "vehicle3",
         "846",
         "18",
         "0.251"
        ],
        [
         "a9a",
         "32561",
         "123",
         "0.241"
        ],
        [
         "transfusion",
         "748",
         "4",
         "0.238"
        ],
        [
         "svmguide3",
         "1243",
         "22",
         "0.238"
        ],
        [
         "vehicle0",
         "846",
         "18",
         "0.235"
        ],
        [
         "ecoli1",
         "336",
         "7",
         "0.229"
        ],
        [
         "spect",
         "267",
         "22",
         "0.206"
        ],
        [
         "appendicitis",
         "106",
         "7",
         "0.198"
        ],
        [
         "flare",
         "1066",
         "10",
         "0.171"
        ],
        [
         "new-thyroid1",
         "215",
         "5",
         "0.163"
        ],
        [
         "newthyroid2",
         "215",
         "5",
         "0.163"
        ],
        [
         "ecoli2",
         "336",
         "7",
         "0.155"
        ],
        [
         "backache",
         "180",
         "31",
         "0.139"
        ],
        [
         "glass6",
         "214",
         "9",
         "0.136"
        ],
        [
         "yeast3",
         "1484",
         "8",
         "0.11"
        ],
        [
         "ecoli3",
         "336",
         "7",
         "0.104"
        ],
        [
         "page-blocks0",
         "5472",
         "10",
         "0.102"
        ],
        [
         "yeast-0-2-5-7-9_vs_3-6-8",
         "1004",
         "8",
         "0.099"
        ],
        [
         "ecoli-0-1-4-7_vs_2-3-5-6",
         "336",
         "7",
         "0.086"
        ],
        [
         "glass2",
         "214",
         "9",
         "0.079"
        ],
        [
         "analcatdata_lawsuit",
         "264",
         "4",
         "0.072"
        ],
        [
         "ecoli-0-1-4-6_vs_5",
         "280",
         "6",
         "0.071"
        ]
       ],
       "shape": {
        "columns": 3,
        "rows": 65
       }
      },
      "text/html": [
       "<div>\n",
       "<style scoped>\n",
       "    .dataframe tbody tr th:only-of-type {\n",
       "        vertical-align: middle;\n",
       "    }\n",
       "\n",
       "    .dataframe tbody tr th {\n",
       "        vertical-align: top;\n",
       "    }\n",
       "\n",
       "    .dataframe thead th {\n",
       "        text-align: right;\n",
       "    }\n",
       "</style>\n",
       "<table border=\"1\" class=\"dataframe\">\n",
       "  <thead>\n",
       "    <tr style=\"text-align: right;\">\n",
       "      <th></th>\n",
       "      <th>instances</th>\n",
       "      <th>n_features</th>\n",
       "      <th>class_prop</th>\n",
       "    </tr>\n",
       "  </thead>\n",
       "  <tbody>\n",
       "    <tr>\n",
       "      <th>bupa</th>\n",
       "      <td>345</td>\n",
       "      <td>5</td>\n",
       "      <td>0.490</td>\n",
       "    </tr>\n",
       "    <tr>\n",
       "      <th>mammographic</th>\n",
       "      <td>830</td>\n",
       "      <td>4</td>\n",
       "      <td>0.486</td>\n",
       "    </tr>\n",
       "    <tr>\n",
       "      <th>splice</th>\n",
       "      <td>1000</td>\n",
       "      <td>60</td>\n",
       "      <td>0.483</td>\n",
       "    </tr>\n",
       "    <tr>\n",
       "      <th>mushroom</th>\n",
       "      <td>8124</td>\n",
       "      <td>22</td>\n",
       "      <td>0.482</td>\n",
       "    </tr>\n",
       "    <tr>\n",
       "      <th>kr_vs_kp</th>\n",
       "      <td>3196</td>\n",
       "      <td>36</td>\n",
       "      <td>0.478</td>\n",
       "    </tr>\n",
       "    <tr>\n",
       "      <th>...</th>\n",
       "      <td>...</td>\n",
       "      <td>...</td>\n",
       "      <td>...</td>\n",
       "    </tr>\n",
       "    <tr>\n",
       "      <th>w1a</th>\n",
       "      <td>2477</td>\n",
       "      <td>300</td>\n",
       "      <td>0.029</td>\n",
       "    </tr>\n",
       "    <tr>\n",
       "      <th>w3a</th>\n",
       "      <td>4912</td>\n",
       "      <td>300</td>\n",
       "      <td>0.029</td>\n",
       "    </tr>\n",
       "    <tr>\n",
       "      <th>w4a</th>\n",
       "      <td>7366</td>\n",
       "      <td>300</td>\n",
       "      <td>0.029</td>\n",
       "    </tr>\n",
       "    <tr>\n",
       "      <th>w5a</th>\n",
       "      <td>9888</td>\n",
       "      <td>300</td>\n",
       "      <td>0.028</td>\n",
       "    </tr>\n",
       "    <tr>\n",
       "      <th>yeast6</th>\n",
       "      <td>1484</td>\n",
       "      <td>8</td>\n",
       "      <td>0.024</td>\n",
       "    </tr>\n",
       "  </tbody>\n",
       "</table>\n",
       "<p>65 rows × 3 columns</p>\n",
       "</div>"
      ],
      "text/plain": [
       "              instances  n_features  class_prop\n",
       "bupa                345           5       0.490\n",
       "mammographic        830           4       0.486\n",
       "splice             1000          60       0.483\n",
       "mushroom           8124          22       0.482\n",
       "kr_vs_kp           3196          36       0.478\n",
       "...                 ...         ...         ...\n",
       "w1a                2477         300       0.029\n",
       "w3a                4912         300       0.029\n",
       "w4a                7366         300       0.029\n",
       "w5a                9888         300       0.028\n",
       "yeast6             1484           8       0.024\n",
       "\n",
       "[65 rows x 3 columns]"
      ]
     },
     "execution_count": 3,
     "metadata": {},
     "output_type": "execute_result"
    }
   ],
   "source": [
    "# sort the dataset by the column class_prop\n",
    "df_description.sort_values(by='class_prop', ascending=False)"
   ]
  },
  {
   "cell_type": "code",
   "execution_count": 13,
   "id": "80256894",
   "metadata": {},
   "outputs": [
    {
     "data": {
      "application/vnd.microsoft.datawrangler.viewer.v0+json": {
       "columns": [
        {
         "name": "index",
         "rawType": "object",
         "type": "string"
        },
        {
         "name": "instances",
         "rawType": "float64",
         "type": "float"
        },
        {
         "name": "n_features",
         "rawType": "float64",
         "type": "float"
        },
        {
         "name": "class_prop",
         "rawType": "float64",
         "type": "float"
        }
       ],
       "ref": "e7a4510d-c737-474b-a81f-84f63ab06b23",
       "rows": [
        [
         "mean",
         "4026.14",
         "81.18",
         "0.23"
        ],
        [
         "std",
         "10656.88",
         "259.97",
         "0.16"
        ],
        [
         "min",
         "62.0",
         "2.0",
         "0.02"
        ],
        [
         "25%",
         "270.0",
         "7.0",
         "0.07"
        ],
        [
         "50%",
         "748.0",
         "10.0",
         "0.24"
        ],
        [
         "75%",
         "1484.0",
         "30.0",
         "0.36"
        ],
        [
         "max",
         "59535.0",
         "2000.0",
         "0.49"
        ]
       ],
       "shape": {
        "columns": 3,
        "rows": 7
       }
      },
      "text/html": [
       "<div>\n",
       "<style scoped>\n",
       "    .dataframe tbody tr th:only-of-type {\n",
       "        vertical-align: middle;\n",
       "    }\n",
       "\n",
       "    .dataframe tbody tr th {\n",
       "        vertical-align: top;\n",
       "    }\n",
       "\n",
       "    .dataframe thead th {\n",
       "        text-align: right;\n",
       "    }\n",
       "</style>\n",
       "<table border=\"1\" class=\"dataframe\">\n",
       "  <thead>\n",
       "    <tr style=\"text-align: right;\">\n",
       "      <th></th>\n",
       "      <th>instances</th>\n",
       "      <th>n_features</th>\n",
       "      <th>class_prop</th>\n",
       "    </tr>\n",
       "  </thead>\n",
       "  <tbody>\n",
       "    <tr>\n",
       "      <th>mean</th>\n",
       "      <td>4026.14</td>\n",
       "      <td>81.18</td>\n",
       "      <td>0.23</td>\n",
       "    </tr>\n",
       "    <tr>\n",
       "      <th>std</th>\n",
       "      <td>10656.88</td>\n",
       "      <td>259.97</td>\n",
       "      <td>0.16</td>\n",
       "    </tr>\n",
       "    <tr>\n",
       "      <th>min</th>\n",
       "      <td>62.00</td>\n",
       "      <td>2.00</td>\n",
       "      <td>0.02</td>\n",
       "    </tr>\n",
       "    <tr>\n",
       "      <th>25%</th>\n",
       "      <td>270.00</td>\n",
       "      <td>7.00</td>\n",
       "      <td>0.07</td>\n",
       "    </tr>\n",
       "    <tr>\n",
       "      <th>50%</th>\n",
       "      <td>748.00</td>\n",
       "      <td>10.00</td>\n",
       "      <td>0.24</td>\n",
       "    </tr>\n",
       "    <tr>\n",
       "      <th>75%</th>\n",
       "      <td>1484.00</td>\n",
       "      <td>30.00</td>\n",
       "      <td>0.36</td>\n",
       "    </tr>\n",
       "    <tr>\n",
       "      <th>max</th>\n",
       "      <td>59535.00</td>\n",
       "      <td>2000.00</td>\n",
       "      <td>0.49</td>\n",
       "    </tr>\n",
       "  </tbody>\n",
       "</table>\n",
       "</div>"
      ],
      "text/plain": [
       "      instances  n_features  class_prop\n",
       "mean    4026.14       81.18        0.23\n",
       "std    10656.88      259.97        0.16\n",
       "min       62.00        2.00        0.02\n",
       "25%      270.00        7.00        0.07\n",
       "50%      748.00       10.00        0.24\n",
       "75%     1484.00       30.00        0.36\n",
       "max    59535.00     2000.00        0.49"
      ]
     },
     "execution_count": 13,
     "metadata": {},
     "output_type": "execute_result"
    }
   ],
   "source": [
    "df_description.describe().round(2).drop('count')"
   ]
  }
 ],
 "metadata": {
  "kernelspec": {
   "display_name": "ddn_env",
   "language": "python",
   "name": "python3"
  },
  "language_info": {
   "codemirror_mode": {
    "name": "ipython",
    "version": 3
   },
   "file_extension": ".py",
   "mimetype": "text/x-python",
   "name": "python",
   "nbconvert_exporter": "python",
   "pygments_lexer": "ipython3",
   "version": "3.10.16"
  }
 },
 "nbformat": 4,
 "nbformat_minor": 5
}
